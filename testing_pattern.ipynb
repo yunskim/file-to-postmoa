{
 "cells": [
  {
   "cell_type": "code",
   "id": "initial_id",
   "metadata": {
    "collapsed": true,
    "ExecuteTime": {
     "end_time": "2025-06-20T08:01:26.994896Z",
     "start_time": "2025-06-20T08:01:26.991901Z"
    }
   },
   "source": [
    "from pathlib import Path\n",
    "import pathlib\n",
    "from pypdf import PdfReader\n",
    "\n",
    "pdf = Path(r'c:\\Users\\User\\Desktop\\작업용 임시 폴더\\자동차관리법 위반 사항 개선 요구(부산OOO5090).pdf')"
   ],
   "outputs": [],
   "execution_count": 4
  },
  {
   "metadata": {
    "ExecuteTime": {
     "end_time": "2025-06-20T08:01:27.511180Z",
     "start_time": "2025-06-20T08:01:27.357677Z"
    }
   },
   "cell_type": "code",
   "source": [
    "import re\n",
    "\n",
    "BIKE_NUMBER = re.compile(r'\\d+')\n",
    "\n",
    "pdf = pathlib.Path(pdf).resolve()\n",
    "text = ''\n",
    "\n",
    "for page in PdfReader(pdf).pages:\n",
    "    text += page.extract_text()\n"
   ],
   "id": "e1f24dbb875a074a",
   "outputs": [],
   "execution_count": 5
  },
  {
   "metadata": {
    "ExecuteTime": {
     "end_time": "2025-06-20T08:01:31.958080Z",
     "start_time": "2025-06-20T08:01:31.953729Z"
    }
   },
   "cell_type": "code",
   "source": "text",
   "id": "ea547b4ea81c3a8d",
   "outputs": [
    {
     "data": {
      "text/plain": [
       "'  1/2\\n「도시철도 영도선」부산을 연결하고 영도의 미래를 밝힙니다.\\n영      도      구\\n수신\\n전종수 귀하 (우49092 부산광역시 영도구 동삼서로 51-20, B동 101호 (동삼\\n동))\\n(경유)\\n제목 자동차관리법 위반 사항 개선 요구(부산OOO5090)\\n1. 귀하의 행복과 건승을 기원합니다.\\n2. 귀하 소유의 이륜자동차에 대해 민원신고가 있어 확인한 결과 자동차관리법 제50조\\n(이륜자동차의 구조 및 장치)를 위반하였므로 즉시 위반사항을 개선하시고, 자동차관리법 제37조\\n(점검 및 정비 명령 등)에 따라 원상복구 및 개선사항 증빙자료를 요구하오니 반드시 \\n기한 내 제출하여 주시기 바랍니다.\\n3. 기타 문의는 영도구청 교통과(☎051-419-4547)로 연락바라며, 기한까지 정당한 사유  없\\n이 개선 자료를 제출하지 않거나 추후에 동일한 건으로 신고 접수시 자동차관리법 제84조\\n에 의거 조치될 수 있음(과태료 부과 등)을 알려드립니다.\\n붙임:  민원신고사진 - 불법등화장치.  끝.\\n차량번호 소유자 위반사항 개선 요구 증빙자료 제출방법 제출기한\\n부산영도\\n바5090\\n전종수 불법등화장치\\n(LED) 불법등화장치 제거\\n개선사진 이메일 제출\\n(yunskim@korea.kr)\\n2025.7.18.  2/2\\n영  도  구  청  장\\n주무관\\n자동차관리팀\\n장\\n교통과장  2025. 6. 19.\\n김연승 박승창 하근화\\n협조자\\n시행 교통과-63202 (2025. 6. 19.) 접수\\n우 49011 부산광역시 영도구 태종로 423, (청학동) / www.yeongdo.go.kr\\n전화번호 051-419-4547 팩스번호 051-419-4559 /yunskim@korea.kr /비공개(6)\\n부산시 균형발전의 상징! 교통 불평등 해소! 「도시철도 영도선」'"
      ]
     },
     "execution_count": 6,
     "metadata": {},
     "output_type": "execute_result"
    }
   ],
   "execution_count": 6
  },
  {
   "metadata": {
    "ExecuteTime": {
     "end_time": "2025-06-20T08:01:33.178105Z",
     "start_time": "2025-06-20T08:01:33.175396Z"
    }
   },
   "cell_type": "code",
   "source": "BIKE_NUMBER = re.compile(r'\\n(.+)\\n(\\w)(\\d{4})\\n')",
   "id": "c66c32148a1d6000",
   "outputs": [],
   "execution_count": 7
  },
  {
   "metadata": {
    "ExecuteTime": {
     "end_time": "2025-06-20T08:01:34.315431Z",
     "start_time": "2025-06-20T08:01:34.311576Z"
    }
   },
   "cell_type": "code",
   "source": "BIKE_NUMBER.search(text).groups()",
   "id": "b104af7b118ebe9a",
   "outputs": [
    {
     "data": {
      "text/plain": [
       "('부산영도', '바', '5090')"
      ]
     },
     "execution_count": 8,
     "metadata": {},
     "output_type": "execute_result"
    }
   ],
   "execution_count": 8
  },
  {
   "metadata": {
    "ExecuteTime": {
     "end_time": "2025-06-20T08:01:34.878770Z",
     "start_time": "2025-06-20T08:01:34.875235Z"
    }
   },
   "cell_type": "code",
   "source": "DUE_DATE = re.compile(r'\\n(\\d+\\.\\d+\\.\\d+\\.)')",
   "id": "fe337fedb3a906d",
   "outputs": [],
   "execution_count": 9
  },
  {
   "metadata": {
    "ExecuteTime": {
     "end_time": "2025-06-20T08:01:35.495738Z",
     "start_time": "2025-06-20T08:01:35.492358Z"
    }
   },
   "cell_type": "code",
   "source": "DUE_DATE.search(text).groups()",
   "id": "f7746b6c18783612",
   "outputs": [
    {
     "data": {
      "text/plain": [
       "('2025.7.18.',)"
      ]
     },
     "execution_count": 10,
     "metadata": {},
     "output_type": "execute_result"
    }
   ],
   "execution_count": 10
  },
  {
   "metadata": {
    "ExecuteTime": {
     "end_time": "2025-06-20T08:01:36.138558Z",
     "start_time": "2025-06-20T08:01:36.134834Z"
    }
   },
   "cell_type": "code",
   "source": "DUE_DATE.search(text).group()",
   "id": "f991ff810b237b57",
   "outputs": [
    {
     "data": {
      "text/plain": [
       "'\\n2025.7.18.'"
      ]
     },
     "execution_count": 11,
     "metadata": {},
     "output_type": "execute_result"
    }
   ],
   "execution_count": 11
  },
  {
   "metadata": {
    "ExecuteTime": {
     "end_time": "2025-06-20T08:01:36.854390Z",
     "start_time": "2025-06-20T08:01:36.849019Z"
    }
   },
   "cell_type": "code",
   "source": "DUE_DATE.search(text).groups()",
   "id": "6d6c2c0a4bb3e532",
   "outputs": [
    {
     "data": {
      "text/plain": [
       "('2025.7.18.',)"
      ]
     },
     "execution_count": 12,
     "metadata": {},
     "output_type": "execute_result"
    }
   ],
   "execution_count": 12
  },
  {
   "metadata": {
    "ExecuteTime": {
     "end_time": "2025-06-20T08:01:38.073108Z",
     "start_time": "2025-06-20T08:01:38.070379Z"
    }
   },
   "cell_type": "code",
   "source": "a = DUE_DATE.search(text).groups()",
   "id": "b52aeaae644684aa",
   "outputs": [],
   "execution_count": 13
  },
  {
   "metadata": {
    "ExecuteTime": {
     "end_time": "2025-06-20T08:01:38.757048Z",
     "start_time": "2025-06-20T08:01:38.752759Z"
    }
   },
   "cell_type": "code",
   "source": "a",
   "id": "430872142e3c3f6b",
   "outputs": [
    {
     "data": {
      "text/plain": [
       "('2025.7.18.',)"
      ]
     },
     "execution_count": 14,
     "metadata": {},
     "output_type": "execute_result"
    }
   ],
   "execution_count": 14
  },
  {
   "metadata": {
    "ExecuteTime": {
     "end_time": "2025-06-20T08:03:13.036882Z",
     "start_time": "2025-06-20T08:03:13.033695Z"
    }
   },
   "cell_type": "code",
   "source": "SPLIT_ADDRESS = re.compile(r'\\((.+)\\)')",
   "id": "94218075db651067",
   "outputs": [],
   "execution_count": 16
  },
  {
   "metadata": {
    "ExecuteTime": {
     "end_time": "2025-06-20T08:03:40.954761Z",
     "start_time": "2025-06-20T08:03:40.951707Z"
    }
   },
   "cell_type": "code",
   "source": "NAME_ZIPCODE_ADDRESS = re.compile(r'수신\\s+(.+)\\s+귀하\\s+\\(우(\\d+)\\s+(.+)\\)\\n\\(경유\\)', re.DOTALL)  # 이름, zipcode, 주소\n",
   "id": "998de854c316ad7d",
   "outputs": [],
   "execution_count": 17
  },
  {
   "metadata": {
    "ExecuteTime": {
     "end_time": "2025-06-20T08:03:47.845491Z",
     "start_time": "2025-06-20T08:03:47.841681Z"
    }
   },
   "cell_type": "code",
   "source": "NAME_ZIPCODE_ADDRESS.search(text).groups()",
   "id": "c579815bc3327163",
   "outputs": [
    {
     "data": {
      "text/plain": [
       "('전종수', '49092', '부산광역시 영도구 동삼서로 51-20, B동 101호 (동삼\\n동)')"
      ]
     },
     "execution_count": 18,
     "metadata": {},
     "output_type": "execute_result"
    }
   ],
   "execution_count": 18
  },
  {
   "metadata": {
    "ExecuteTime": {
     "end_time": "2025-06-20T08:03:59.455190Z",
     "start_time": "2025-06-20T08:03:59.452266Z"
    }
   },
   "cell_type": "code",
   "source": "address = NAME_ZIPCODE_ADDRESS.search(text).group(3)",
   "id": "181cd66c9f33371c",
   "outputs": [],
   "execution_count": 19
  },
  {
   "metadata": {
    "ExecuteTime": {
     "end_time": "2025-06-20T08:04:01.349420Z",
     "start_time": "2025-06-20T08:04:01.345679Z"
    }
   },
   "cell_type": "code",
   "source": "address",
   "id": "191a7968d64b3dfa",
   "outputs": [
    {
     "data": {
      "text/plain": [
       "'부산광역시 영도구 동삼서로 51-20, B동 101호 (동삼\\n동)'"
      ]
     },
     "execution_count": 20,
     "metadata": {},
     "output_type": "execute_result"
    }
   ],
   "execution_count": 20
  },
  {
   "metadata": {
    "ExecuteTime": {
     "end_time": "2025-06-20T08:05:26.764258Z",
     "start_time": "2025-06-20T08:05:26.761982Z"
    }
   },
   "cell_type": "code",
   "source": "address = address.replace('\\n', '')",
   "id": "823c4a12bf2791c8",
   "outputs": [],
   "execution_count": 22
  },
  {
   "metadata": {
    "ExecuteTime": {
     "end_time": "2025-06-20T08:05:29.521783Z",
     "start_time": "2025-06-20T08:05:29.517376Z"
    }
   },
   "cell_type": "code",
   "source": "address",
   "id": "5b0cc887c2dfa053",
   "outputs": [
    {
     "data": {
      "text/plain": [
       "'부산광역시 영도구 동삼서로 51-20, B동 101호 (동삼동)'"
      ]
     },
     "execution_count": 23,
     "metadata": {},
     "output_type": "execute_result"
    }
   ],
   "execution_count": 23
  },
  {
   "metadata": {
    "ExecuteTime": {
     "end_time": "2025-06-20T08:05:49.185263Z",
     "start_time": "2025-06-20T08:05:49.181540Z"
    }
   },
   "cell_type": "code",
   "source": "SPLIT_ADDRESS.search(address).groups()",
   "id": "281ef76e1a76ba80",
   "outputs": [
    {
     "data": {
      "text/plain": [
       "('동삼동',)"
      ]
     },
     "execution_count": 25,
     "metadata": {},
     "output_type": "execute_result"
    }
   ],
   "execution_count": 25
  },
  {
   "metadata": {
    "ExecuteTime": {
     "end_time": "2025-06-20T08:06:48.088776Z",
     "start_time": "2025-06-20T08:06:48.084776Z"
    }
   },
   "cell_type": "code",
   "source": [
    "SPLIT_ADDRESS = re.compile(r',(.+)', re.DOTALL)\n",
    "SPLIT_ADDRESS.search(address).groups()"
   ],
   "id": "aca489c6ca4ae1c1",
   "outputs": [
    {
     "data": {
      "text/plain": [
       "(' B동 101호 (동삼동)',)"
      ]
     },
     "execution_count": 26,
     "metadata": {},
     "output_type": "execute_result"
    }
   ],
   "execution_count": 26
  },
  {
   "metadata": {},
   "cell_type": "code",
   "outputs": [],
   "execution_count": null,
   "source": "",
   "id": "d411d40a652af0b2"
  }
 ],
 "metadata": {
  "kernelspec": {
   "display_name": "Python 3",
   "language": "python",
   "name": "python3"
  },
  "language_info": {
   "codemirror_mode": {
    "name": "ipython",
    "version": 2
   },
   "file_extension": ".py",
   "mimetype": "text/x-python",
   "name": "python",
   "nbconvert_exporter": "python",
   "pygments_lexer": "ipython2",
   "version": "2.7.6"
  }
 },
 "nbformat": 4,
 "nbformat_minor": 5
}
