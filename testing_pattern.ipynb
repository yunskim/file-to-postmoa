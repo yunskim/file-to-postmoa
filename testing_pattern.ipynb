{
 "cells": [
  {
   "cell_type": "code",
   "id": "initial_id",
   "metadata": {
    "collapsed": true,
    "ExecuteTime": {
     "end_time": "2025-06-23T05:31:43.669223Z",
     "start_time": "2025-06-23T05:31:43.666225Z"
    }
   },
   "source": [
    "from pathlib import Path\n",
    "import pathlib\n",
    "from pypdf import PdfReader\n",
    "\n",
    "pdf = Path(r'c:\\Users\\User\\Desktop\\작업용 임시 폴더\\자동차관리법 위반차량 원상복구 및 임시검사명령 통지(부산OOOO1316).pdf')"
   ],
   "outputs": [],
   "execution_count": 21
  },
  {
   "metadata": {
    "ExecuteTime": {
     "end_time": "2025-06-23T05:31:44.909327Z",
     "start_time": "2025-06-23T05:31:44.811472Z"
    }
   },
   "cell_type": "code",
   "source": [
    "import re\n",
    "\n",
    "BIKE_NUMBER = re.compile(r'\\d+')\n",
    "\n",
    "pdf = pathlib.Path(pdf).resolve()\n",
    "text = ''\n",
    "\n",
    "for page in PdfReader(pdf).pages:\n",
    "    text += page.extract_text()\n"
   ],
   "id": "e1f24dbb875a074a",
   "outputs": [],
   "execution_count": 22
  },
  {
   "metadata": {
    "ExecuteTime": {
     "end_time": "2025-06-23T05:31:45.424893Z",
     "start_time": "2025-06-23T05:31:45.420894Z"
    }
   },
   "cell_type": "code",
   "source": "text",
   "id": "ea547b4ea81c3a8d",
   "outputs": [
    {
     "data": {
      "text/plain": [
       "'  1/2\\n「도시철도 영도선」부산을 연결하고 영도의 미래를 밝힙니다.\\n영      도      구\\n수신 김성례 귀하 (우49099 부산광역시 영도구 웃서발로31번길 22  (동삼동, 영도 \\n도남하이츠빌라))\\n(경유)\\n제목 자동차관리법 위반차량 원상복구 및 임시검사명령 통지(부산OOOO1316)\\n1. 귀하의 건승을 기원합니다.\\n \\n2. 민원신고에 따라 확인한 결과 귀하의 차량이 자동차관리법 및 소음·진동관리법을 \\n위반한 것으로 추정되어 다음과 같이 이륜자동차 원상복구 및 임시검사명령을 내리\\n니 2025. 8. 18.(화) 까지 원상복구 및 임시검사를 이행하시기 바랍니다.\\n  가. 자동차 원상복구 및 임시검사 명령 사항\\n  \\n  나. 이륜자동차 원상복구 및 임시검사 안내\\n    ○ 본 명령서, 자동차등록증을 지참하여 위반사항에 대해 자동차정비업소 등에서 \\n원상복구 하신 후 교통안전공단(자동차검사소)에서 임시검사 받을 것을 명합니다.\\n      ※ 임시검사 이행 시 검사결과가 전산 연계됨으로 구청에 이행사항을 신고할 필요는 \\n없습니다.\\n      ※ 자동차검사소 안내\\n        ▷ 주례검사소(324-5331), 사하검사소(204-9536), 해운대검사소(781-7570)\\n3. 만약 지정 기일 내에 임시검사 명령을 미 이행할 시 자동차관리법 제81조 규정에 \\n의거 관할 경찰서에 고발조치(1년 이하의 징역 또는 1천만원 이하의 벌금) 됨을 알려 \\n드립니다.\\n붙임  1. 이륜자동차 점검ㆍ정비ㆍ임시검사 또는 원상복구명령서(1316).\\n차량번호 소유자 위반내역 명령사항 관련법령\\n부산부산진\\n하1316 김성례\\n미 인 가  번 호 등\\n번 호 판  각 도  불 량\\n소 음 허 용 기 준  초 과  여 부\\n자동차 원상복구 및 \\n임시검사명령\\n자동차관리법\\n․ 제10조(자동차등록번호판)\\n․ 제34조(자동차의 튜닝)\\n․ 제50조(이륜자동차의 구조 \\n및 장치)\\n․ 제51조(이륜자동차검사)\\n소음·진동관리법\\n․ 제35조(운행차 소음허용기\\n준)  2/2\\n      2. 민원신고사진 - 미인가번호등 번호판각도 소음.  끝.\\n영  도  구  청  장\\n주무관 자동차관리팀\\n장 교통과장  2025. 6. 19.\\n김연승 박승창 하근화\\n협조자\\n시행 교통과-63196 (2025. 6. 19.) 접수\\n우 49011 부산광역시 영도구 태종로 423, (청학동) / www.yeongdo.go.kr\\n전화번호 051-419-4547 팩스번호 051-419-4559 / yunskim@korea.kr / 비공개(6)\\n부산시 균형발전의 상징! 교통 불평등 해소! 「도시철도 영도선」'"
      ]
     },
     "execution_count": 23,
     "metadata": {},
     "output_type": "execute_result"
    }
   ],
   "execution_count": 23
  },
  {
   "metadata": {
    "ExecuteTime": {
     "end_time": "2025-06-23T05:32:24.191831Z",
     "start_time": "2025-06-23T05:32:24.188665Z"
    }
   },
   "cell_type": "code",
   "source": [
    "BIKE_NUMBER = re.compile(r'(?<=차량번호).+\\n(\\w+\\n?\\w\\d{4})', re.DOTALL)\n",
    "NAME = re.compile(r'수신\\s+(.+)(?=\\s+귀하\\s+\\(우\\d+\\s+.+\\)\\n\\(경유\\))', re.DOTALL)  # 이름\n",
    "ZIPCODE = re.compile(r'수신\\s+.+\\s+귀하\\s+\\(우(\\d+)\\s+.+\\)\\n\\(경유\\)', re.DOTALL)  # zipcode\n",
    "ADDRESS = re.compile(r'수신\\s+.+\\s+귀하\\s+\\(우\\d+\\s+(.+)\\)\\n\\(경유\\)', re.DOTALL)  # 주소\n",
    "DUE_DATE = re.compile(r'\\n(\\d+\\.\\d+\\.\\d+\\.)')\n"
   ],
   "id": "c66c32148a1d6000",
   "outputs": [],
   "execution_count": 27
  },
  {
   "metadata": {
    "ExecuteTime": {
     "end_time": "2025-06-23T05:32:24.648785Z",
     "start_time": "2025-06-23T05:32:24.644780Z"
    }
   },
   "cell_type": "code",
   "source": "BIKE_NUMBER.search(text).groups()",
   "id": "b104af7b118ebe9a",
   "outputs": [
    {
     "data": {
      "text/plain": [
       "('부산부산진\\n하1316',)"
      ]
     },
     "execution_count": 28,
     "metadata": {},
     "output_type": "execute_result"
    }
   ],
   "execution_count": 28
  },
  {
   "metadata": {
    "ExecuteTime": {
     "end_time": "2025-06-23T05:23:13.699439Z",
     "start_time": "2025-06-23T05:23:13.684537Z"
    }
   },
   "cell_type": "code",
   "source": "BIKE_NUMBER.search(text).groups()",
   "id": "4118a2995f2cf7ad",
   "outputs": [
    {
     "ename": "AttributeError",
     "evalue": "'NoneType' object has no attribute 'groups'",
     "output_type": "error",
     "traceback": [
      "\u001B[31m---------------------------------------------------------------------------\u001B[39m",
      "\u001B[31mAttributeError\u001B[39m                            Traceback (most recent call last)",
      "\u001B[36mCell\u001B[39m\u001B[36m \u001B[39m\u001B[32mIn[8]\u001B[39m\u001B[32m, line 1\u001B[39m\n\u001B[32m----> \u001B[39m\u001B[32m1\u001B[39m \u001B[43mBIKE_NUMBER\u001B[49m\u001B[43m.\u001B[49m\u001B[43msearch\u001B[49m\u001B[43m(\u001B[49m\u001B[43mtext\u001B[49m\u001B[43m)\u001B[49m\u001B[43m.\u001B[49m\u001B[43mgroups\u001B[49m()\n",
      "\u001B[31mAttributeError\u001B[39m: 'NoneType' object has no attribute 'groups'"
     ]
    }
   ],
   "execution_count": 8
  },
  {
   "metadata": {
    "ExecuteTime": {
     "end_time": "2025-06-23T05:08:15.181828Z",
     "start_time": "2025-06-23T05:08:15.178632Z"
    }
   },
   "cell_type": "code",
   "source": "",
   "id": "fe337fedb3a906d",
   "outputs": [],
   "execution_count": 9
  },
  {
   "metadata": {
    "ExecuteTime": {
     "end_time": "2025-06-23T05:08:16.257828Z",
     "start_time": "2025-06-23T05:08:16.253956Z"
    }
   },
   "cell_type": "code",
   "source": "DUE_DATE.search(text).groups()",
   "id": "f7746b6c18783612",
   "outputs": [
    {
     "data": {
      "text/plain": [
       "('2025.7.18.',)"
      ]
     },
     "execution_count": 10,
     "metadata": {},
     "output_type": "execute_result"
    }
   ],
   "execution_count": 10
  },
  {
   "metadata": {
    "ExecuteTime": {
     "end_time": "2025-06-23T05:08:16.934426Z",
     "start_time": "2025-06-23T05:08:16.930672Z"
    }
   },
   "cell_type": "code",
   "source": "DUE_DATE.search(text).group()",
   "id": "f991ff810b237b57",
   "outputs": [
    {
     "data": {
      "text/plain": [
       "'\\n2025.7.18.'"
      ]
     },
     "execution_count": 11,
     "metadata": {},
     "output_type": "execute_result"
    }
   ],
   "execution_count": 11
  },
  {
   "metadata": {
    "ExecuteTime": {
     "end_time": "2025-06-23T05:08:17.503235Z",
     "start_time": "2025-06-23T05:08:17.499647Z"
    }
   },
   "cell_type": "code",
   "source": "DUE_DATE.search(text).groups()",
   "id": "6d6c2c0a4bb3e532",
   "outputs": [
    {
     "data": {
      "text/plain": [
       "('2025.7.18.',)"
      ]
     },
     "execution_count": 12,
     "metadata": {},
     "output_type": "execute_result"
    }
   ],
   "execution_count": 12
  },
  {
   "metadata": {
    "ExecuteTime": {
     "end_time": "2025-06-23T05:08:18.025669Z",
     "start_time": "2025-06-23T05:08:18.023308Z"
    }
   },
   "cell_type": "code",
   "source": "a = DUE_DATE.search(text).groups()",
   "id": "b52aeaae644684aa",
   "outputs": [],
   "execution_count": 13
  },
  {
   "metadata": {
    "ExecuteTime": {
     "end_time": "2025-06-23T05:08:18.689532Z",
     "start_time": "2025-06-23T05:08:18.685491Z"
    }
   },
   "cell_type": "code",
   "source": "a",
   "id": "430872142e3c3f6b",
   "outputs": [
    {
     "data": {
      "text/plain": [
       "('2025.7.18.',)"
      ]
     },
     "execution_count": 14,
     "metadata": {},
     "output_type": "execute_result"
    }
   ],
   "execution_count": 14
  },
  {
   "metadata": {
    "ExecuteTime": {
     "end_time": "2025-06-23T05:08:19.320080Z",
     "start_time": "2025-06-23T05:08:19.316342Z"
    }
   },
   "cell_type": "code",
   "source": "SPLIT_ADDRESS = re.compile(r'\\((.+)\\)')",
   "id": "94218075db651067",
   "outputs": [],
   "execution_count": 15
  },
  {
   "metadata": {
    "ExecuteTime": {
     "end_time": "2025-06-23T05:08:19.904585Z",
     "start_time": "2025-06-23T05:08:19.900574Z"
    }
   },
   "cell_type": "code",
   "source": "NAME_ZIPCODE_ADDRESS = re.compile(r'수신\\s+(.+)\\s+귀하\\s+\\(우(\\d+)\\s+(.+)\\)\\n\\(경유\\)', re.DOTALL)  # 이름, zipcode, 주소\n",
   "id": "998de854c316ad7d",
   "outputs": [],
   "execution_count": 16
  },
  {
   "metadata": {
    "ExecuteTime": {
     "end_time": "2025-06-23T05:08:20.738842Z",
     "start_time": "2025-06-23T05:08:20.735590Z"
    }
   },
   "cell_type": "code",
   "source": "NAME_ZIPCODE_ADDRESS.search(text).groups()",
   "id": "c579815bc3327163",
   "outputs": [
    {
     "data": {
      "text/plain": [
       "('전종수', '49092', '부산광역시 영도구 동삼서로 51-20, B동 101호 (동삼\\n동)')"
      ]
     },
     "execution_count": 17,
     "metadata": {},
     "output_type": "execute_result"
    }
   ],
   "execution_count": 17
  },
  {
   "metadata": {
    "ExecuteTime": {
     "end_time": "2025-06-23T05:08:21.389720Z",
     "start_time": "2025-06-23T05:08:21.386433Z"
    }
   },
   "cell_type": "code",
   "source": "address = NAME_ZIPCODE_ADDRESS.search(text).group(3)",
   "id": "181cd66c9f33371c",
   "outputs": [],
   "execution_count": 18
  },
  {
   "metadata": {
    "ExecuteTime": {
     "end_time": "2025-06-23T05:08:23.206672Z",
     "start_time": "2025-06-23T05:08:23.203003Z"
    }
   },
   "cell_type": "code",
   "source": "address",
   "id": "191a7968d64b3dfa",
   "outputs": [
    {
     "data": {
      "text/plain": [
       "'부산광역시 영도구 동삼서로 51-20, B동 101호 (동삼\\n동)'"
      ]
     },
     "execution_count": 19,
     "metadata": {},
     "output_type": "execute_result"
    }
   ],
   "execution_count": 19
  },
  {
   "metadata": {
    "ExecuteTime": {
     "end_time": "2025-06-23T05:08:23.742916Z",
     "start_time": "2025-06-23T05:08:23.740499Z"
    }
   },
   "cell_type": "code",
   "source": "address = address.replace('\\n', '')",
   "id": "823c4a12bf2791c8",
   "outputs": [],
   "execution_count": 20
  },
  {
   "metadata": {
    "ExecuteTime": {
     "end_time": "2025-06-23T05:08:24.294545Z",
     "start_time": "2025-06-23T05:08:24.290545Z"
    }
   },
   "cell_type": "code",
   "source": "address",
   "id": "5b0cc887c2dfa053",
   "outputs": [
    {
     "data": {
      "text/plain": [
       "'부산광역시 영도구 동삼서로 51-20, B동 101호 (동삼동)'"
      ]
     },
     "execution_count": 21,
     "metadata": {},
     "output_type": "execute_result"
    }
   ],
   "execution_count": 21
  },
  {
   "metadata": {
    "ExecuteTime": {
     "end_time": "2025-06-23T05:08:25.091369Z",
     "start_time": "2025-06-23T05:08:25.087853Z"
    }
   },
   "cell_type": "code",
   "source": "SPLIT_ADDRESS.search(address).groups()",
   "id": "281ef76e1a76ba80",
   "outputs": [
    {
     "data": {
      "text/plain": [
       "('동삼동',)"
      ]
     },
     "execution_count": 22,
     "metadata": {},
     "output_type": "execute_result"
    }
   ],
   "execution_count": 22
  },
  {
   "metadata": {
    "ExecuteTime": {
     "end_time": "2025-06-23T05:08:25.653266Z",
     "start_time": "2025-06-23T05:08:25.649376Z"
    }
   },
   "cell_type": "code",
   "source": [
    "SPLIT_ADDRESS = re.compile(r',(.+)', re.DOTALL)\n",
    "SPLIT_ADDRESS.search(address).groups()"
   ],
   "id": "aca489c6ca4ae1c1",
   "outputs": [
    {
     "data": {
      "text/plain": [
       "(' B동 101호 (동삼동)',)"
      ]
     },
     "execution_count": 23,
     "metadata": {},
     "output_type": "execute_result"
    }
   ],
   "execution_count": 23
  },
  {
   "metadata": {},
   "cell_type": "markdown",
   "source": "# NAME, ZIPCODE, ADDRESS 분리",
   "id": "b699f4d8159edbb8"
  },
  {
   "metadata": {
    "ExecuteTime": {
     "end_time": "2025-06-23T05:09:13.532422Z",
     "start_time": "2025-06-23T05:09:13.528162Z"
    }
   },
   "cell_type": "code",
   "source": "NAME.search(text).group(1)",
   "id": "38309156bb36ba55",
   "outputs": [
    {
     "data": {
      "text/plain": [
       "'전종수'"
      ]
     },
     "execution_count": 25,
     "metadata": {},
     "output_type": "execute_result"
    }
   ],
   "execution_count": 25
  },
  {
   "metadata": {
    "ExecuteTime": {
     "end_time": "2025-06-23T05:09:53.961064Z",
     "start_time": "2025-06-23T05:09:53.957063Z"
    }
   },
   "cell_type": "code",
   "source": "ZIPCODE.search(text).group(1)",
   "id": "b5221f200597c122",
   "outputs": [
    {
     "data": {
      "text/plain": [
       "'49092'"
      ]
     },
     "execution_count": 26,
     "metadata": {},
     "output_type": "execute_result"
    }
   ],
   "execution_count": 26
  },
  {
   "metadata": {
    "ExecuteTime": {
     "end_time": "2025-06-23T05:10:09.723943Z",
     "start_time": "2025-06-23T05:10:09.719943Z"
    }
   },
   "cell_type": "code",
   "source": "ADDRESS.search(text).group(1)",
   "id": "67452ad344c22d06",
   "outputs": [
    {
     "data": {
      "text/plain": [
       "'부산광역시 영도구 동삼서로 51-20, B동 101호 (동삼\\n동)'"
      ]
     },
     "execution_count": 27,
     "metadata": {},
     "output_type": "execute_result"
    }
   ],
   "execution_count": 27
  },
  {
   "metadata": {},
   "cell_type": "markdown",
   "source": "# lookaround",
   "id": "b3b1a3bab6782d39"
  },
  {
   "metadata": {
    "ExecuteTime": {
     "end_time": "2025-06-20T08:34:21.668665Z",
     "start_time": "2025-06-20T08:34:21.665967Z"
    }
   },
   "cell_type": "code",
   "source": "# https://elvanov.com/2388",
   "id": "27ac20d98ef751c8",
   "outputs": [],
   "execution_count": 43
  },
  {
   "metadata": {},
   "cell_type": "code",
   "outputs": [],
   "execution_count": null,
   "source": "",
   "id": "fd67c6334885e173"
  }
 ],
 "metadata": {
  "kernelspec": {
   "display_name": "Python 3",
   "language": "python",
   "name": "python3"
  },
  "language_info": {
   "codemirror_mode": {
    "name": "ipython",
    "version": 2
   },
   "file_extension": ".py",
   "mimetype": "text/x-python",
   "name": "python",
   "nbconvert_exporter": "python",
   "pygments_lexer": "ipython2",
   "version": "2.7.6"
  }
 },
 "nbformat": 4,
 "nbformat_minor": 5
}
