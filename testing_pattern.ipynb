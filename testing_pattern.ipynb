{
 "cells": [
  {
   "cell_type": "code",
   "id": "initial_id",
   "metadata": {
    "collapsed": true,
    "ExecuteTime": {
     "end_time": "2025-06-13T06:32:13.005167Z",
     "start_time": "2025-06-13T06:32:12.749146Z"
    }
   },
   "source": [
    "from pathlib import Path\n",
    "import pathlib\n",
    "from pypdf import PdfReader\n",
    "\n",
    "pdf = Path(r'c:\\Users\\User\\Desktop\\작업용 임시 폴더\\자동차관리법 위반 사항 개선 요구(부산OOO3621).pdf')"
   ],
   "outputs": [],
   "execution_count": 7
  },
  {
   "metadata": {
    "ExecuteTime": {
     "end_time": "2025-06-13T06:32:13.380024Z",
     "start_time": "2025-06-13T06:32:13.081137Z"
    }
   },
   "cell_type": "code",
   "source": [
    "import re\n",
    "\n",
    "BIKE_NUMBER = re.compile(r'\\d+')\n",
    "\n",
    "pdf = pathlib.Path(pdf).resolve()\n",
    "text = ''\n",
    "\n",
    "for page in PdfReader(pdf).pages:\n",
    "    text += page.extract_text()\n"
   ],
   "id": "e1f24dbb875a074a",
   "outputs": [],
   "execution_count": 8
  },
  {
   "metadata": {
    "ExecuteTime": {
     "end_time": "2025-06-13T06:32:16.050459Z",
     "start_time": "2025-06-13T06:32:16.043444Z"
    }
   },
   "cell_type": "code",
   "source": "text",
   "id": "ea547b4ea81c3a8d",
   "outputs": [
    {
     "data": {
      "text/plain": [
       "'  1/2\\n「도시철도 영도선」부산을 연결하고 영도의 미래를 밝힙니다.\\n영      도      구\\n수신 추영환 귀하 (우49088 부산광역시 영도구 일산봉로 98-1  (청학동))\\n(경유)\\n제목 자동차관리법 위반 사항 개선 요구(부산OOO3621)\\n1. 귀하의 행복과 건승을 기원합니다.\\n2. 귀하 소유의 이륜자동차에 대해 민원신고가 있어 확인한 결과 자동차관리법 제50조\\n(이륜자동차의 구조 및 장치)를 위반하였므로 즉시 위반사항을 개선하시고, 자동차관리법 제37조\\n(점검 및 정비 명령 등)에 따라 원상복구 및 개선사항 증빙자료를 요구하오니 반드시 \\n기한 내 제출하여 주시기 바랍니다.\\n3. 기타 문의는 영도구청 교통과(☎051-419-4547)로 연락바라며, 기한까지 정당한 사유  없\\n이 개선 자료를 제출하지 않거나 추후에 동일한 건으로 신고 접수시 자동차관리법 제84조\\n에 의거 조치될 수 있음(과태료 부과 등)을 알려드립니다.\\n붙임:  민원신고사진 - 불법등화장치.  끝.\\n차량번호 소유자 위반사항 개선 요구 증빙자료 제출방법 제출기한\\n부산영도\\n바3621\\n추영환 불법등화장치\\n(LED) 불법등화장치 제거\\n개선사진 이메일 제출\\n(yunskim@korea.kr)\\n2025.7.10.  2/2\\n영  도  구  청  장\\n주무관\\n자동차관리팀\\n장\\n교통과장  2025. 6. 10.\\n김연승 박승창 하근화\\n협조자\\n시행 교통과-59607 (2025. 6. 10.) 접수\\n우 49011 부산광역시 영도구 태종로 423, (청학동) / www.yeongdo.go.kr\\n전화번호 051-419-4547 팩스번호 051-419-4559 /yunskim@korea.kr /비공개(6)\\n부산시 균형발전의 상징! 교통 불평등 해소! 「도시철도 영도선」'"
      ]
     },
     "execution_count": 9,
     "metadata": {},
     "output_type": "execute_result"
    }
   ],
   "execution_count": 9
  },
  {
   "metadata": {
    "ExecuteTime": {
     "end_time": "2025-06-13T06:33:35.348155Z",
     "start_time": "2025-06-13T06:33:35.344352Z"
    }
   },
   "cell_type": "code",
   "source": "BIKE_NUMBER = re.compile(r'\\n(.+)\\n(\\w)(\\d{4})\\n')",
   "id": "c66c32148a1d6000",
   "outputs": [],
   "execution_count": 10
  },
  {
   "metadata": {
    "ExecuteTime": {
     "end_time": "2025-06-13T06:33:49.659119Z",
     "start_time": "2025-06-13T06:33:49.656120Z"
    }
   },
   "cell_type": "code",
   "source": "BIKE_NUMBER.search(text).groups()",
   "id": "b104af7b118ebe9a",
   "outputs": [
    {
     "data": {
      "text/plain": [
       "('부산영도', '바', '3621')"
      ]
     },
     "execution_count": 12,
     "metadata": {},
     "output_type": "execute_result"
    }
   ],
   "execution_count": 12
  },
  {
   "metadata": {
    "ExecuteTime": {
     "end_time": "2025-06-13T06:38:56.946617Z",
     "start_time": "2025-06-13T06:38:56.943852Z"
    }
   },
   "cell_type": "code",
   "source": "DUE_DATE = re.compile(r'\\n(\\d+\\.\\d+\\.\\d+\\.)')",
   "id": "fe337fedb3a906d",
   "outputs": [],
   "execution_count": 17
  },
  {
   "metadata": {
    "ExecuteTime": {
     "end_time": "2025-06-13T06:38:57.245279Z",
     "start_time": "2025-06-13T06:38:57.241679Z"
    }
   },
   "cell_type": "code",
   "source": "DUE_DATE.search(text).groups()",
   "id": "f7746b6c18783612",
   "outputs": [
    {
     "data": {
      "text/plain": [
       "('2025.7.10.',)"
      ]
     },
     "execution_count": 18,
     "metadata": {},
     "output_type": "execute_result"
    }
   ],
   "execution_count": 18
  },
  {
   "metadata": {
    "ExecuteTime": {
     "end_time": "2025-06-13T07:16:59.400988Z",
     "start_time": "2025-06-13T07:16:59.393799Z"
    }
   },
   "cell_type": "code",
   "source": "DUE_DATE.search(text).group()",
   "id": "f991ff810b237b57",
   "outputs": [
    {
     "data": {
      "text/plain": [
       "'\\n2025.7.10.'"
      ]
     },
     "execution_count": 19,
     "metadata": {},
     "output_type": "execute_result"
    }
   ],
   "execution_count": 19
  },
  {
   "metadata": {
    "ExecuteTime": {
     "end_time": "2025-06-13T07:17:12.659152Z",
     "start_time": "2025-06-13T07:17:12.654956Z"
    }
   },
   "cell_type": "code",
   "source": "DUE_DATE.search(text).groups()",
   "id": "6d6c2c0a4bb3e532",
   "outputs": [
    {
     "data": {
      "text/plain": [
       "('2025.7.10.',)"
      ]
     },
     "execution_count": 20,
     "metadata": {},
     "output_type": "execute_result"
    }
   ],
   "execution_count": 20
  },
  {
   "metadata": {
    "ExecuteTime": {
     "end_time": "2025-06-13T07:17:26.830926Z",
     "start_time": "2025-06-13T07:17:26.827918Z"
    }
   },
   "cell_type": "code",
   "source": "a = DUE_DATE.search(text).groups()",
   "id": "b52aeaae644684aa",
   "outputs": [],
   "execution_count": 21
  },
  {
   "metadata": {
    "ExecuteTime": {
     "end_time": "2025-06-13T07:17:28.528213Z",
     "start_time": "2025-06-13T07:17:28.524728Z"
    }
   },
   "cell_type": "code",
   "source": "a",
   "id": "430872142e3c3f6b",
   "outputs": [
    {
     "data": {
      "text/plain": [
       "('2025.7.10.',)"
      ]
     },
     "execution_count": 22,
     "metadata": {},
     "output_type": "execute_result"
    }
   ],
   "execution_count": 22
  },
  {
   "metadata": {},
   "cell_type": "code",
   "outputs": [],
   "execution_count": null,
   "source": "",
   "id": "94218075db651067"
  }
 ],
 "metadata": {
  "kernelspec": {
   "display_name": "Python 3",
   "language": "python",
   "name": "python3"
  },
  "language_info": {
   "codemirror_mode": {
    "name": "ipython",
    "version": 2
   },
   "file_extension": ".py",
   "mimetype": "text/x-python",
   "name": "python",
   "nbconvert_exporter": "python",
   "pygments_lexer": "ipython2",
   "version": "2.7.6"
  }
 },
 "nbformat": 4,
 "nbformat_minor": 5
}
